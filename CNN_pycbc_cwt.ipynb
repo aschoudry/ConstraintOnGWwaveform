{
  "nbformat": 4,
  "nbformat_minor": 0,
  "metadata": {
    "colab": {
      "name": "CNN_pycbc_cwt.ipynb",
      "provenance": [],
      "collapsed_sections": [],
      "authorship_tag": "ABX9TyORF5aAsech4s33OfBBlVG0",
      "include_colab_link": true
    },
    "kernelspec": {
      "name": "python3",
      "display_name": "Python 3"
    },
    "language_info": {
      "name": "python"
    }
  },
  "cells": [
    {
      "cell_type": "markdown",
      "metadata": {
        "id": "view-in-github",
        "colab_type": "text"
      },
      "source": [
        "<a href=\"https://colab.research.google.com/github/aschoudry/ConstraintOnGWwaveform/blob/master/CNN_pycbc_cwt.ipynb\" target=\"_parent\"><img src=\"https://colab.research.google.com/assets/colab-badge.svg\" alt=\"Open In Colab\"/></a>"
      ]
    },
    {
      "cell_type": "code",
      "metadata": {
        "id": "lK4dq8fJfUvv"
      },
      "source": [
        "%matplotlib inline\n",
        "import tensorflow as tf\n",
        "from tensorflow import keras\n",
        "import matplotlib.pyplot as plt\n",
        "import random\n",
        "import numpy as np\n",
        "from tensorflow.keras import layers"
      ],
      "execution_count": 1,
      "outputs": []
    },
    {
      "cell_type": "code",
      "metadata": {
        "id": "APo_ofcPfjbZ"
      },
      "source": [
        "model = keras.Sequential([layers.Conv2D(32, kernel_size=3, activation='relu', input_shape = (256,256, 3)), \n",
        "                          layers.MaxPool2D((3,3)), \n",
        "                          layers.Conv2D(64, kernel_size=3, activation='relu'), \n",
        "                          layers.MaxPool2D((3,3)), layers.Flatten(), \n",
        "                          layers.Dense(units=1)])"
      ],
      "execution_count": 2,
      "outputs": []
    },
    {
      "cell_type": "code",
      "metadata": {
        "colab": {
          "base_uri": "https://localhost:8080/"
        },
        "id": "9Su6PEHPfkES",
        "outputId": "0d05a860-83aa-411f-9d42-9d756a8bad63"
      },
      "source": [
        "model.summary()"
      ],
      "execution_count": 3,
      "outputs": [
        {
          "output_type": "stream",
          "name": "stdout",
          "text": [
            "Model: \"sequential\"\n",
            "_________________________________________________________________\n",
            "Layer (type)                 Output Shape              Param #   \n",
            "=================================================================\n",
            "conv2d (Conv2D)              (None, 254, 254, 32)      896       \n",
            "_________________________________________________________________\n",
            "max_pooling2d (MaxPooling2D) (None, 84, 84, 32)        0         \n",
            "_________________________________________________________________\n",
            "conv2d_1 (Conv2D)            (None, 82, 82, 64)        18496     \n",
            "_________________________________________________________________\n",
            "max_pooling2d_1 (MaxPooling2 (None, 27, 27, 64)        0         \n",
            "_________________________________________________________________\n",
            "flatten (Flatten)            (None, 46656)             0         \n",
            "_________________________________________________________________\n",
            "dense (Dense)                (None, 1)                 46657     \n",
            "=================================================================\n",
            "Total params: 66,049\n",
            "Trainable params: 66,049\n",
            "Non-trainable params: 0\n",
            "_________________________________________________________________\n"
          ]
        }
      ]
    },
    {
      "cell_type": "code",
      "metadata": {
        "id": "c7bfjHTlfmDA"
      },
      "source": [
        "model.compile(optimizer='Adam', loss='mse')"
      ],
      "execution_count": 4,
      "outputs": []
    },
    {
      "cell_type": "code",
      "metadata": {
        "id": "pjJhmHTyfoP4"
      },
      "source": [
        "def process_path(file_path):\n",
        "  label = tf.strings.split(file_path, '_')[-2]\n",
        "  label = tf.strings.to_number(label)\n",
        "  image = tf.io.decode_png(tf.io.read_file(file_path))\n",
        "  image = tf.cast(image, tf.float32)\n",
        "  image/=255\n",
        "  return image, label"
      ],
      "execution_count": 5,
      "outputs": []
    },
    {
      "cell_type": "code",
      "metadata": {
        "colab": {
          "base_uri": "https://localhost:8080/"
        },
        "id": "gzBlWZRXh5GA",
        "outputId": "bfd01edd-3705-4a0e-dcbf-de0837db9812"
      },
      "source": [
        "from google.colab import drive\n",
        "drive.mount('/content/gdrive')"
      ],
      "execution_count": 6,
      "outputs": [
        {
          "output_type": "stream",
          "name": "stdout",
          "text": [
            "Drive already mounted at /content/gdrive; to attempt to forcibly remount, call drive.mount(\"/content/gdrive\", force_remount=True).\n"
          ]
        }
      ]
    },
    {
      "cell_type": "code",
      "metadata": {
        "id": "js7OlXyTfvyQ"
      },
      "source": [
        "list_ds_train = tf.data.Dataset.list_files('/content/gdrive/MyDrive/pycbc_image_data/train_m_*_.png', shuffle=True)\n",
        "labeled_ds_train = list_ds_train.map(process_path)\n",
        "labeled_ds_train = labeled_ds_train.batch(20)"
      ],
      "execution_count": 7,
      "outputs": []
    },
    {
      "cell_type": "code",
      "metadata": {
        "id": "BGlSRuu-vz0t"
      },
      "source": [
        "list_ds_test = tf.data.Dataset.list_files('/content/gdrive/MyDrive/pycbc_image_data/test_m_*_.png', shuffle=True)\n",
        "labeled_ds_test = list_ds_test.map(process_path)\n",
        "labeled_ds_test = labeled_ds_test.batch(20)"
      ],
      "execution_count": 8,
      "outputs": []
    },
    {
      "cell_type": "code",
      "metadata": {
        "colab": {
          "base_uri": "https://localhost:8080/"
        },
        "id": "9aoq_wOZhs9F",
        "outputId": "c474f7ee-e905-47ba-debb-b2443e603b19"
      },
      "source": [
        "history = model.fit(labeled_ds_train, epochs=30, verbose=2, validation_data=labeled_ds_test)"
      ],
      "execution_count": 9,
      "outputs": [
        {
          "output_type": "stream",
          "name": "stdout",
          "text": [
            "Epoch 1/30\n",
            "50/50 - 51s - loss: 1183.6359 - val_loss: 59.7686\n",
            "Epoch 2/30\n",
            "50/50 - 51s - loss: 15.5359 - val_loss: 3.1212\n",
            "Epoch 3/30\n",
            "50/50 - 52s - loss: 1.9972 - val_loss: 0.7500\n",
            "Epoch 4/30\n",
            "50/50 - 51s - loss: 1.0094 - val_loss: 0.5050\n",
            "Epoch 5/30\n",
            "50/50 - 51s - loss: 0.6865 - val_loss: 0.4263\n",
            "Epoch 6/30\n",
            "50/50 - 51s - loss: 0.5954 - val_loss: 0.3257\n",
            "Epoch 7/30\n",
            "50/50 - 50s - loss: 0.4343 - val_loss: 0.3440\n",
            "Epoch 8/30\n",
            "50/50 - 50s - loss: 0.4223 - val_loss: 0.6754\n",
            "Epoch 9/30\n",
            "50/50 - 50s - loss: 0.4148 - val_loss: 0.4666\n",
            "Epoch 10/30\n",
            "50/50 - 49s - loss: 0.3353 - val_loss: 0.2105\n",
            "Epoch 11/30\n",
            "50/50 - 49s - loss: 0.2910 - val_loss: 0.2312\n",
            "Epoch 12/30\n",
            "50/50 - 49s - loss: 0.2531 - val_loss: 0.1601\n",
            "Epoch 13/30\n",
            "50/50 - 50s - loss: 0.2230 - val_loss: 0.1567\n",
            "Epoch 14/30\n",
            "50/50 - 50s - loss: 0.2610 - val_loss: 0.1709\n",
            "Epoch 15/30\n",
            "50/50 - 50s - loss: 0.2079 - val_loss: 0.1208\n",
            "Epoch 16/30\n",
            "50/50 - 50s - loss: 0.1910 - val_loss: 0.2791\n",
            "Epoch 17/30\n",
            "50/50 - 49s - loss: 0.1634 - val_loss: 0.1052\n",
            "Epoch 18/30\n",
            "50/50 - 49s - loss: 0.1337 - val_loss: 0.1390\n",
            "Epoch 19/30\n",
            "50/50 - 49s - loss: 0.1399 - val_loss: 0.1335\n",
            "Epoch 20/30\n",
            "50/50 - 50s - loss: 0.1392 - val_loss: 0.0938\n",
            "Epoch 21/30\n",
            "50/50 - 50s - loss: 0.1752 - val_loss: 0.0777\n",
            "Epoch 22/30\n",
            "50/50 - 50s - loss: 0.1038 - val_loss: 0.1027\n",
            "Epoch 23/30\n",
            "50/50 - 50s - loss: 0.1429 - val_loss: 0.0860\n",
            "Epoch 24/30\n",
            "50/50 - 49s - loss: 0.0798 - val_loss: 0.0625\n",
            "Epoch 25/30\n",
            "50/50 - 49s - loss: 0.0853 - val_loss: 0.0511\n",
            "Epoch 26/30\n",
            "50/50 - 49s - loss: 0.0826 - val_loss: 0.0571\n",
            "Epoch 27/30\n",
            "50/50 - 49s - loss: 0.0898 - val_loss: 0.0440\n",
            "Epoch 28/30\n",
            "50/50 - 49s - loss: 0.1711 - val_loss: 0.0643\n",
            "Epoch 29/30\n",
            "50/50 - 49s - loss: 0.0647 - val_loss: 0.0566\n",
            "Epoch 30/30\n",
            "50/50 - 49s - loss: 0.0979 - val_loss: 0.1042\n"
          ]
        }
      ]
    },
    {
      "cell_type": "code",
      "metadata": {
        "colab": {
          "base_uri": "https://localhost:8080/",
          "height": 265
        },
        "id": "AZ5dUGaOcgqu",
        "outputId": "c62af50f-d05d-42a8-81a6-261106f98baf"
      },
      "source": [
        "plt.plot(history.history['loss'], 'r')\n",
        "plt.plot(history.history['val_loss'])\n",
        "plt.yscale(\"log\")"
      ],
      "execution_count": 10,
      "outputs": [
        {
          "output_type": "display_data",
          "data": {
            "image/png": "[encoded data removed]",
            "text/plain": [
              "<Figure size 432x288 with 1 Axes>"
            ]
          },
          "metadata": {
            "needs_background": "light"
          }
        }
      ]
    },
    {
      "cell_type": "code",
      "metadata": {
        "id": "rSNWzRG-vVVz"
      },
      "source": [
        ""
      ],
      "execution_count": 10,
      "outputs": []
    }
  ]
}